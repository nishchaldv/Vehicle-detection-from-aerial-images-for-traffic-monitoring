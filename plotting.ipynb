{
 "cells": [
  {
   "cell_type": "code",
   "execution_count": 1,
   "id": "88f0cd8c",
   "metadata": {},
   "outputs": [
    {
     "ename": "ModuleNotFoundError",
     "evalue": "No module named 'keras'",
     "output_type": "error",
     "traceback": [
      "\u001b[1;31m---------------------------------------------------------------------------\u001b[0m",
      "\u001b[1;31mModuleNotFoundError\u001b[0m                       Traceback (most recent call last)",
      "\u001b[1;32m<ipython-input-1-26515a5f3a4f>\u001b[0m in \u001b[0;36m<module>\u001b[1;34m\u001b[0m\n\u001b[0;32m      3\u001b[0m \u001b[1;32mimport\u001b[0m \u001b[0mrandom\u001b[0m \u001b[1;32mas\u001b[0m \u001b[0mrnd\u001b[0m\u001b[1;33m\u001b[0m\u001b[1;33m\u001b[0m\u001b[0m\n\u001b[0;32m      4\u001b[0m \u001b[1;31m#import seaborn as sns\u001b[0m\u001b[1;33m\u001b[0m\u001b[1;33m\u001b[0m\u001b[1;33m\u001b[0m\u001b[0m\n\u001b[1;32m----> 5\u001b[1;33m \u001b[1;32mfrom\u001b[0m \u001b[0mkeras\u001b[0m\u001b[1;33m.\u001b[0m\u001b[0mcallbacks\u001b[0m \u001b[1;32mimport\u001b[0m \u001b[0mModelCheckpoint\u001b[0m\u001b[1;33m\u001b[0m\u001b[1;33m\u001b[0m\u001b[0m\n\u001b[0m\u001b[0;32m      6\u001b[0m \u001b[1;32mfrom\u001b[0m \u001b[0mmake_model\u001b[0m \u001b[1;32mimport\u001b[0m \u001b[1;33m*\u001b[0m\u001b[1;33m\u001b[0m\u001b[1;33m\u001b[0m\u001b[0m\n\u001b[0;32m      7\u001b[0m \u001b[1;32mfrom\u001b[0m \u001b[0msklearn\u001b[0m\u001b[1;33m.\u001b[0m\u001b[0mmetrics\u001b[0m \u001b[1;32mimport\u001b[0m \u001b[0mconfusion_matrix\u001b[0m\u001b[1;33m\u001b[0m\u001b[1;33m\u001b[0m\u001b[0m\n",
      "\u001b[1;31mModuleNotFoundError\u001b[0m: No module named 'keras'"
     ]
    }
   ],
   "source": [
    "import cv2\n",
    "import numpy as np\n",
    "import random as rnd\n",
    "#import seaborn as sns \n",
    "from keras.callbacks import ModelCheckpoint\n",
    "from make_model import *\n",
    "from sklearn.metrics import confusion_matrix\n",
    "from keras.preprocessing.image import ImageDataGenerator\n",
    "from tensorflow.keras.utils import array_to_img, img_to_array, load_img#from keras.preprocessing.image import ImageDataGenerator, array_to_img, img_to_array, load_img\n",
    "\n",
    "seed = 11\n",
    "rnd.seed(seed)\n",
    "np.random.seed(seed)\n",
    "\n",
    "model = make_model()\n",
    "epochs = 100\n",
    "winH,winW = 50,50\n",
    "\n",
    "############################\n",
    "\n",
    "batch_size = 16\n",
    "\n",
    "# this is the augmentation configuration we will use for training\n",
    "train_datagen = ImageDataGenerator(\n",
    "\t\trescale=1./255,\n",
    "        rotation_range=20,\n",
    "        width_shift_range=0.1,\n",
    "        height_shift_range=0.1,\n",
    "        shear_range=0.1,\n",
    "        zoom_range=0.1,\n",
    "        horizontal_flip=True,\n",
    "        fill_mode='nearest')\n",
    "\n",
    "# this is the augmentation configuration we will use for testing:\n",
    "# only rescaling\n",
    "test_datagen = ImageDataGenerator(rescale=1./255)\n",
    "\n",
    "# this is a generator that will read pictures found in\n",
    "# subfolers of 'data/train', and indefinitely generate\n",
    "# batches of augmented image data\n",
    "train_generator = train_datagen.flow_from_directory(\n",
    "        'data/train',  # this is the target directory\n",
    "        target_size=(winH, winW),  # all images will be resized to 150x150\n",
    "        batch_size=batch_size,\n",
    "        class_mode='binary')  # since we use binary_crossentropy loss, we need binary labels\n",
    "\n",
    "# this is a similar generator, for validation data\n",
    "validation_generator = test_datagen.flow_from_directory(\n",
    "        'data/validation',\n",
    "        target_size=(winH, winW),\n",
    "        batch_size=batch_size,\n",
    "        class_mode='binary')\n",
    "\n",
    "filepath=\"weights_best.h5\"\n",
    "checkpoint = ModelCheckpoint(filepath, monitor='val_acc', verbose=1, save_best_only=True, mode='max')\n",
    "callbacks_list = [checkpoint]\n",
    "\n",
    "class_weight = {0: 10,\n",
    "                1: 1}\n",
    "\t\t\t\t\n",
    "history = model.fit_generator(\n",
    "        train_generator,\n",
    "        steps_per_epoch=5131 // batch_size,\n",
    "        epochs=epochs,\n",
    "        validation_data=validation_generator,\n",
    "        validation_steps=1603 // batch_size,\n",
    "        callbacks=callbacks_list,\n",
    "        class_weight=class_weight)\n",
    "\n",
    "print(type(history))"
   ]
  },
  {
   "cell_type": "code",
   "execution_count": 6,
   "id": "f8213284",
   "metadata": {},
   "outputs": [
    {
     "data": {
      "text/plain": [
       "[0.8591295480728149,\n",
       " 0.522468626499176,\n",
       " 0.42563748359680176,\n",
       " 0.7044389247894287,\n",
       " 0.3652016520500183,\n",
       " 0.37526488304138184,\n",
       " 0.5208041667938232,\n",
       " 0.31707173585891724,\n",
       " 0.8269519805908203,\n",
       " 0.7807868123054504,\n",
       " 0.4021843373775482,\n",
       " 0.3422110080718994,\n",
       " 0.3517906963825226,\n",
       " 0.3454015254974365,\n",
       " 0.30538392066955566,\n",
       " 0.2131659835577011,\n",
       " 0.4027520716190338,\n",
       " 0.35342562198638916,\n",
       " 0.40107905864715576,\n",
       " 0.3620859384536743,\n",
       " 0.30674365162849426,\n",
       " 0.2325410097837448,\n",
       " 0.2884681522846222,\n",
       " 0.39124447107315063,\n",
       " 0.27746620774269104,\n",
       " 0.3238879144191742,\n",
       " 0.2820132076740265,\n",
       " 0.5703983902931213,\n",
       " 0.4743170440196991,\n",
       " 0.3661062717437744,\n",
       " 0.35103291273117065,\n",
       " 0.22992101311683655,\n",
       " 0.24324984848499298,\n",
       " 0.24185732007026672,\n",
       " 0.3363455533981323,\n",
       " 0.2393060177564621,\n",
       " 0.3578178286552429,\n",
       " 0.2810559868812561,\n",
       " 0.34377026557922363,\n",
       " 0.5588552355766296,\n",
       " 0.24339362978935242,\n",
       " 0.23758000135421753,\n",
       " 0.34158775210380554,\n",
       " 0.3232596516609192,\n",
       " 0.2603975534439087,\n",
       " 0.627534031867981,\n",
       " 0.31177252531051636,\n",
       " 0.2749461829662323,\n",
       " 0.45929059386253357,\n",
       " 0.37916409969329834,\n",
       " 0.5209861993789673,\n",
       " 0.3427410423755646,\n",
       " 0.40222254395484924,\n",
       " 0.33120355010032654,\n",
       " 0.33913734555244446,\n",
       " 0.5073640942573547,\n",
       " 0.18879897892475128,\n",
       " 0.3425043821334839,\n",
       " 0.42088913917541504,\n",
       " 0.24279338121414185,\n",
       " 0.35049673914909363,\n",
       " 0.23798562586307526,\n",
       " 0.659548282623291,\n",
       " 0.3440871834754944,\n",
       " 0.4496270716190338,\n",
       " 0.646687924861908,\n",
       " 0.34729671478271484,\n",
       " 0.36824291944503784,\n",
       " 0.37024447321891785,\n",
       " 0.29758355021476746,\n",
       " 0.40123462677001953,\n",
       " 0.38166114687919617,\n",
       " 0.4741363525390625,\n",
       " 0.32491710782051086,\n",
       " 0.25550395250320435,\n",
       " 0.4083961844444275,\n",
       " 0.22625663876533508,\n",
       " 0.1455487608909607,\n",
       " 0.1740143597126007,\n",
       " 0.2338852435350418,\n",
       " 0.5134699940681458,\n",
       " 0.17652420699596405,\n",
       " 0.2600977420806885,\n",
       " 0.1987021416425705,\n",
       " 0.3674354553222656,\n",
       " 0.2537173628807068,\n",
       " 0.2046566605567932,\n",
       " 0.42381125688552856,\n",
       " 0.17706666886806488,\n",
       " 0.2194482684135437,\n",
       " 0.21183627843856812,\n",
       " 0.15384000539779663,\n",
       " 0.1764334738254547,\n",
       " 0.18076029419898987,\n",
       " 0.38258740305900574,\n",
       " 0.19326189160346985,\n",
       " 0.19036182761192322,\n",
       " 0.29497918486595154,\n",
       " 0.2441871464252472,\n",
       " 0.2764342427253723]"
      ]
     },
     "execution_count": 6,
     "metadata": {},
     "output_type": "execute_result"
    }
   ],
   "source": [
    "loss = history.history['val_loss']\n",
    "loss"
   ]
  },
  {
   "cell_type": "code",
   "execution_count": 3,
   "id": "8be02f13",
   "metadata": {},
   "outputs": [],
   "source": [
    "from matplotlib import pyplot as plt"
   ]
  },
  {
   "cell_type": "code",
   "execution_count": 4,
   "id": "0979321f",
   "metadata": {},
   "outputs": [],
   "source": [
    "%matplotlib inline"
   ]
  },
  {
   "cell_type": "code",
   "execution_count": 7,
   "id": "e9683964",
   "metadata": {},
   "outputs": [
    {
     "data": {
      "image/png": "[encoded data removed]",
      "text/plain": [
       "<Figure size 432x288 with 1 Axes>"
      ]
     },
     "metadata": {
      "needs_background": "light"
     },
     "output_type": "display_data"
    }
   ],
   "source": [
    "epoch_count = range(1, len(training_loss) + 1)\n",
    "\n",
    "# Visualize loss history\n",
    "plt.plot(epoch_count, loss, 'r')\n",
    "plt.xlabel('Epoch')\n",
    "plt.ylabel('Loss')\n",
    "plt.show();\n"
   ]
  },
  {
   "cell_type": "code",
   "execution_count": null,
   "id": "2688e5f4",
   "metadata": {},
   "outputs": [],
   "source": []
  }
 ],
 "metadata": {
  "kernelspec": {
   "display_name": "Python 3",
   "language": "python",
   "name": "python3"
  },
  "language_info": {
   "codemirror_mode": {
    "name": "ipython",
    "version": 3
   },
   "file_extension": ".py",
   "mimetype": "text/x-python",
   "name": "python",
   "nbconvert_exporter": "python",
   "pygments_lexer": "ipython3",
   "version": "3.8.8"
  }
 },
 "nbformat": 4,
 "nbformat_minor": 5
}
